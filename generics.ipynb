{
  "nbformat": 4,
  "nbformat_minor": 0,
  "metadata": {
    "colab": {
      "provenance": []
    },
    "kernelspec": {
      "name": "python3",
      "display_name": "Python 3"
    },
    "language_info": {
      "name": "python"
    }
  },
  "cells": [
    {
      "cell_type": "code",
      "source": [
        "# https://chatgpt.com/share/67eb8532-2238-8006-92bd-f7cddca35849\n",
        "from dataclasses import dataclass\n",
        "from typing import ClassVar,Generic,TypeVar"
      ],
      "metadata": {
        "id": "xl9pTPzs8a2J"
      },
      "execution_count": 137,
      "outputs": []
    },
    {
      "cell_type": "code",
      "source": [
        "T = TypeVar(\"T\")\n",
        "\n",
        "def data(data:T)->T:\n",
        "  return data"
      ],
      "metadata": {
        "id": "XKATR8928kTX"
      },
      "execution_count": 139,
      "outputs": []
    },
    {
      "cell_type": "code",
      "source": [
        "data(\"Shahmir\")"
      ],
      "metadata": {
        "colab": {
          "base_uri": "https://localhost:8080/",
          "height": 35
        },
        "id": "gG1UTXf38wBY",
        "outputId": "b275b308-5920-40f8-e197-ffeada4299ce"
      },
      "execution_count": 140,
      "outputs": [
        {
          "output_type": "execute_result",
          "data": {
            "text/plain": [
              "'Shahmir'"
            ],
            "application/vnd.google.colaboratory.intrinsic+json": {
              "type": "string"
            }
          },
          "metadata": {},
          "execution_count": 140
        }
      ]
    },
    {
      "cell_type": "code",
      "source": [
        "data(5)"
      ],
      "metadata": {
        "colab": {
          "base_uri": "https://localhost:8080/"
        },
        "id": "cER0wZIi81aw",
        "outputId": "146e80df-1a71-4401-b35a-21b66109faf3"
      },
      "execution_count": 141,
      "outputs": [
        {
          "output_type": "execute_result",
          "data": {
            "text/plain": [
              "5"
            ]
          },
          "metadata": {},
          "execution_count": 141
        }
      ]
    },
    {
      "cell_type": "code",
      "source": [
        "data(True)"
      ],
      "metadata": {
        "colab": {
          "base_uri": "https://localhost:8080/"
        },
        "id": "Onf-kQuA9cw6",
        "outputId": "c63ae177-8dd5-450c-e0b9-58bc78f303b0"
      },
      "execution_count": 142,
      "outputs": [
        {
          "output_type": "execute_result",
          "data": {
            "text/plain": [
              "True"
            ]
          },
          "metadata": {},
          "execution_count": 142
        }
      ]
    },
    {
      "cell_type": "code",
      "source": [
        "data(False)"
      ],
      "metadata": {
        "colab": {
          "base_uri": "https://localhost:8080/"
        },
        "id": "jLDEbJIB9c7v",
        "outputId": "1a9cf9b8-d799-4c7f-eb09-7c91395ab13a"
      },
      "execution_count": 143,
      "outputs": [
        {
          "output_type": "execute_result",
          "data": {
            "text/plain": [
              "False"
            ]
          },
          "metadata": {},
          "execution_count": 143
        }
      ]
    },
    {
      "cell_type": "code",
      "source": [
        "data(1.5)"
      ],
      "metadata": {
        "colab": {
          "base_uri": "https://localhost:8080/"
        },
        "id": "-aHxaG2d9dKK",
        "outputId": "5f57ab37-988c-4522-cf92-054e8af0a1be"
      },
      "execution_count": 144,
      "outputs": [
        {
          "output_type": "execute_result",
          "data": {
            "text/plain": [
              "1.5"
            ]
          },
          "metadata": {},
          "execution_count": 144
        }
      ]
    },
    {
      "cell_type": "code",
      "source": [
        "T = TypeVar(\"T\")\n",
        "\n",
        "@dataclass\n",
        "class American(Generic[T]):\n",
        "  age:int\n",
        "  name:str\n",
        "  info:T\n",
        "\n",
        "  def data(self)->T:\n",
        "    return self.info\n",
        "\n"
      ],
      "metadata": {
        "id": "Uof1aAqH9kSH"
      },
      "execution_count": 145,
      "outputs": []
    },
    {
      "cell_type": "code",
      "source": [
        "obj1:American = American(18,\"Shahmir\",100)\n",
        "print(obj1.data())"
      ],
      "metadata": {
        "colab": {
          "base_uri": "https://localhost:8080/"
        },
        "id": "fH9ZQB-A-Q5P",
        "outputId": "93eb414d-15e9-4f2a-8a85-9960d0c62fd1"
      },
      "execution_count": 146,
      "outputs": [
        {
          "output_type": "stream",
          "name": "stdout",
          "text": [
            "100\n"
          ]
        }
      ]
    },
    {
      "cell_type": "code",
      "source": [
        "obj1:American = American(18,\"Shahmir\",\"Hello \")\n",
        "print(obj1.data())"
      ],
      "metadata": {
        "colab": {
          "base_uri": "https://localhost:8080/"
        },
        "id": "OmRxSUfY-gLE",
        "outputId": "aac45eef-8d97-41aa-efbd-793ea0e40c98"
      },
      "execution_count": 147,
      "outputs": [
        {
          "output_type": "stream",
          "name": "stdout",
          "text": [
            "Hello \n"
          ]
        }
      ]
    },
    {
      "cell_type": "code",
      "source": [
        "obj1:American = American(18,\"Shahmir\",False)\n",
        "print(obj1.data())"
      ],
      "metadata": {
        "colab": {
          "base_uri": "https://localhost:8080/"
        },
        "id": "EpKuegla-nDy",
        "outputId": "9407aa21-1934-42fe-b9e0-1492f3dbdde5"
      },
      "execution_count": 148,
      "outputs": [
        {
          "output_type": "stream",
          "name": "stdout",
          "text": [
            "False\n"
          ]
        }
      ]
    }
  ]
}