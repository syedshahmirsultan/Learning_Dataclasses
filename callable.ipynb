{
  "nbformat": 4,
  "nbformat_minor": 0,
  "metadata": {
    "colab": {
      "provenance": []
    },
    "kernelspec": {
      "name": "python3",
      "display_name": "Python 3"
    },
    "language_info": {
      "name": "python"
    }
  },
  "cells": [
    {
      "cell_type": "code",
      "execution_count": 105,
      "metadata": {
        "id": "KEqmxxpLq7pi"
      },
      "outputs": [],
      "source": [
        "# https://chatgpt.com/share/67eb7950-d484-8006-802a-1c82b4c5ca2b\n",
        "\n",
        "from dataclasses import dataclass\n",
        "from typing import Callable"
      ]
    },
    {
      "cell_type": "code",
      "source": [
        "def hello(func:Callable[[str],str]):\n",
        "  return func\n",
        "\n",
        "def greet(name:str):\n",
        "  return f\"Hi! {name} \"\n",
        "\n",
        "print(hello(greet(\"Shahmir\")))"
      ],
      "metadata": {
        "colab": {
          "base_uri": "https://localhost:8080/"
        },
        "id": "DBja4RUj37Ej",
        "outputId": "005f2fce-3cb0-4904-8506-666771117814"
      },
      "execution_count": 104,
      "outputs": [
        {
          "output_type": "stream",
          "name": "stdout",
          "text": [
            "Hi! Shahmir \n"
          ]
        }
      ]
    },
    {
      "cell_type": "code",
      "source": [
        "def hello(func:Callable[[str],str]):\n",
        "  return pass\n",
        "\n",
        "def greet(name:str):\n",
        "  return f\"Hi! {name} \"\n",
        "\n",
        "print(hello(greet(\"Shahmir\")))"
      ],
      "metadata": {
        "colab": {
          "base_uri": "https://localhost:8080/",
          "height": 106
        },
        "id": "--h0wnLk5TVW",
        "outputId": "59d771fc-2b1c-494f-da2e-bc9c11c8a8bd"
      },
      "execution_count": 103,
      "outputs": [
        {
          "output_type": "error",
          "ename": "SyntaxError",
          "evalue": "invalid syntax (<ipython-input-103-4a9b9dbe90f2>, line 2)",
          "traceback": [
            "\u001b[0;36m  File \u001b[0;32m\"<ipython-input-103-4a9b9dbe90f2>\"\u001b[0;36m, line \u001b[0;32m2\u001b[0m\n\u001b[0;31m    return pass\u001b[0m\n\u001b[0m           ^\u001b[0m\n\u001b[0;31mSyntaxError\u001b[0m\u001b[0;31m:\u001b[0m invalid syntax\n"
          ]
        }
      ]
    },
    {
      "cell_type": "code",
      "source": [
        "@dataclass\n",
        "class American:\n",
        "  name:str\n",
        "  age:int\n",
        "\n",
        "  def hello(self,func:Callable[[str],str]):\n",
        "    return func\n",
        "\n",
        "  def greet(self):\n",
        "    return f\"Hi! {self.name}\"\n",
        "\n"
      ],
      "metadata": {
        "id": "vO3p1Izi5aAa"
      },
      "execution_count": 102,
      "outputs": []
    },
    {
      "cell_type": "code",
      "source": [
        "obj1:American = American(\"Shahmir\",18)\n",
        "print(obj1.age)\n",
        "print(obj1.greet())\n",
        "print(obj1.hello(obj1.greet))\n",
        "\n",
        "print(obj1.hello(obj1.greet()))\n"
      ],
      "metadata": {
        "colab": {
          "base_uri": "https://localhost:8080/"
        },
        "id": "crX3us0U6Sun",
        "outputId": "fae55fdf-03d5-4212-ad9b-68b09e6e0d70"
      },
      "execution_count": 101,
      "outputs": [
        {
          "output_type": "stream",
          "name": "stdout",
          "text": [
            "18\n",
            "Hi! Shahmir\n",
            "<bound method American.greet of American(name='Shahmir', age=18)>\n",
            "Hi! Shahmir\n"
          ]
        }
      ]
    },
    {
      "cell_type": "code",
      "source": [
        "@dataclass\n",
        "class American:\n",
        "  name:str\n",
        "  age:int\n",
        "\n",
        "  @classmethod\n",
        "  def hello(self,func:Callable[[str],str]):\n",
        "    return func\n",
        "\n",
        "  def greet(self):\n",
        "    return f\"Hi! {self.name}\"\n",
        "\n"
      ],
      "metadata": {
        "id": "GY4hhSJw7lB3"
      },
      "execution_count": 106,
      "outputs": []
    },
    {
      "cell_type": "code",
      "source": [
        "obj1:American = American(\"Shahmir\",18)\n",
        "print(obj1.age)\n",
        "print(obj1.greet())\n",
        "print(obj1.hello(obj1.greet))\n",
        "\n",
        "print(obj1.hello(obj1.greet()))"
      ],
      "metadata": {
        "colab": {
          "base_uri": "https://localhost:8080/"
        },
        "id": "rTtBGss_7sCE",
        "outputId": "82487d92-fcee-4649-d01d-65877e1b0694"
      },
      "execution_count": 107,
      "outputs": [
        {
          "output_type": "stream",
          "name": "stdout",
          "text": [
            "18\n",
            "Hi! Shahmir\n",
            "<bound method American.greet of American(name='Shahmir', age=18)>\n",
            "Hi! Shahmir\n"
          ]
        }
      ]
    },
    {
      "cell_type": "code",
      "source": [
        "@dataclass\n",
        "class American:\n",
        "  name:str\n",
        "  age:int\n",
        "\n",
        "  @staticmethod\n",
        "  def hello(func:Callable[[str],str]):\n",
        "    return func\n",
        "\n",
        "  def greet(self):\n",
        "    return f\"Hi! {self.name}\""
      ],
      "metadata": {
        "id": "_krQ8fu_7wpB"
      },
      "execution_count": 110,
      "outputs": []
    },
    {
      "cell_type": "code",
      "source": [
        "obj1:American = American(\"Shahmir\",18)\n",
        "print(obj1.age)\n",
        "print(obj1.greet())\n",
        "print(obj1.hello(obj1.greet))\n",
        "\n",
        "print(obj1.hello(obj1.greet()))"
      ],
      "metadata": {
        "colab": {
          "base_uri": "https://localhost:8080/"
        },
        "id": "QeEXzlM974AU",
        "outputId": "9feb0d10-bd09-4ae2-faf9-312f7cc5aab8"
      },
      "execution_count": 112,
      "outputs": [
        {
          "output_type": "stream",
          "name": "stdout",
          "text": [
            "18\n",
            "Hi! Shahmir\n",
            "<bound method American.greet of American(name='Shahmir', age=18)>\n",
            "Hi! Shahmir\n"
          ]
        }
      ]
    }
  ]
}