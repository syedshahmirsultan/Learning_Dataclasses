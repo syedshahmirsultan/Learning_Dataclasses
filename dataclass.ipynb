{
  "nbformat": 4,
  "nbformat_minor": 0,
  "metadata": {
    "colab": {
      "provenance": []
    },
    "kernelspec": {
      "name": "python3",
      "display_name": "Python 3"
    },
    "language_info": {
      "name": "python"
    }
  },
  "cells": [
    {
      "cell_type": "code",
      "execution_count": 63,
      "metadata": {
        "id": "KEqmxxpLq7pi"
      },
      "outputs": [],
      "source": [
        "# https://chatgpt.com/share/67eb7950-d484-8006-802a-1c82b4c5ca2b\n",
        "\n",
        "from dataclasses import dataclass\n",
        "from typing import ClassVar"
      ]
    },
    {
      "cell_type": "code",
      "source": [
        "# Using @dataclass is better than a simple class because it automates boilerplate code and provides built-in functionality like __init__, __repr__, and __eq__.\n",
        "\n",
        "@dataclass\n",
        "class American:\n",
        "  name:str\n",
        "  age:int\n",
        "  # ClassVar[str]: This tells Python that country and national_language are class variables, meaning they belong to the class itself, not to individual instances.\n",
        "  country:ClassVar[str] = \"USA\"\n",
        "  national_language:ClassVar[str] = \"English\""
      ],
      "metadata": {
        "id": "9I68MAPZrF1_"
      },
      "execution_count": 64,
      "outputs": []
    },
    {
      "cell_type": "code",
      "source": [
        "obj1:American = American(name=\"John\", age=25)\n",
        "print(obj1.age)\n",
        "print (obj1.name)\n",
        "print(obj1.country)\n",
        "print(obj1.national_language)\n",
        "print(American.national_language)\n",
        "print(American.country )\n",
        "print(obj1.__dict__)"
      ],
      "metadata": {
        "colab": {
          "base_uri": "https://localhost:8080/"
        },
        "id": "6IYXvDt1rfpA",
        "outputId": "52f8371d-5628-405e-f7e9-14c83bb5a806"
      },
      "execution_count": 65,
      "outputs": [
        {
          "output_type": "stream",
          "name": "stdout",
          "text": [
            "25\n",
            "John\n",
            "USA\n",
            "English\n",
            "English\n",
            "USA\n",
            "{'name': 'John', 'age': 25}\n"
          ]
        }
      ]
    },
    {
      "cell_type": "code",
      "source": [
        "@dataclass\n",
        "class American:\n",
        "  name:str\n",
        "  age:int\n",
        "  country:ClassVar[str] = \"USA\"\n",
        "  national_language:ClassVar[str] = \"English\"\n",
        "\n",
        "  def speaks(self):\n",
        "    return f\"{self.name} speaks {self.national_language}\"\n",
        "  @classmethod\n",
        "  def get_country(self):\n",
        "    return f\"He is from {self.country}\"\n",
        "  @staticmethod\n",
        "  def get_name():\n",
        "    return \"John\"\n",
        "\n"
      ],
      "metadata": {
        "id": "830hUUm0xfH5"
      },
      "execution_count": 44,
      "outputs": []
    },
    {
      "cell_type": "code",
      "source": [
        "obj1:American = American(name=\"John\", age=25)\n",
        "print(obj1.age)\n",
        "print (obj1.name)\n",
        "print(obj1.speaks())\n",
        "print(obj1.get_country())\n",
        "print(obj1.get_name())\n"
      ],
      "metadata": {
        "colab": {
          "base_uri": "https://localhost:8080/",
          "height": 245
        },
        "id": "jG_QiyRXx94q",
        "outputId": "4660b16c-a2f4-4bb3-b8e7-1b25a1c42315"
      },
      "execution_count": 66,
      "outputs": [
        {
          "output_type": "stream",
          "name": "stdout",
          "text": [
            "25\n",
            "John\n"
          ]
        },
        {
          "output_type": "error",
          "ename": "AttributeError",
          "evalue": "'American' object has no attribute 'speaks'",
          "traceback": [
            "\u001b[0;31m---------------------------------------------------------------------------\u001b[0m",
            "\u001b[0;31mAttributeError\u001b[0m                            Traceback (most recent call last)",
            "\u001b[0;32m<ipython-input-66-c6d824ea203b>\u001b[0m in \u001b[0;36m<cell line: 0>\u001b[0;34m()\u001b[0m\n\u001b[1;32m      2\u001b[0m \u001b[0mprint\u001b[0m\u001b[0;34m(\u001b[0m\u001b[0mobj1\u001b[0m\u001b[0;34m.\u001b[0m\u001b[0mage\u001b[0m\u001b[0;34m)\u001b[0m\u001b[0;34m\u001b[0m\u001b[0;34m\u001b[0m\u001b[0m\n\u001b[1;32m      3\u001b[0m \u001b[0mprint\u001b[0m \u001b[0;34m(\u001b[0m\u001b[0mobj1\u001b[0m\u001b[0;34m.\u001b[0m\u001b[0mname\u001b[0m\u001b[0;34m)\u001b[0m\u001b[0;34m\u001b[0m\u001b[0;34m\u001b[0m\u001b[0m\n\u001b[0;32m----> 4\u001b[0;31m \u001b[0mprint\u001b[0m\u001b[0;34m(\u001b[0m\u001b[0mobj1\u001b[0m\u001b[0;34m.\u001b[0m\u001b[0mspeaks\u001b[0m\u001b[0;34m(\u001b[0m\u001b[0;34m)\u001b[0m\u001b[0;34m)\u001b[0m\u001b[0;34m\u001b[0m\u001b[0;34m\u001b[0m\u001b[0m\n\u001b[0m\u001b[1;32m      5\u001b[0m \u001b[0mprint\u001b[0m\u001b[0;34m(\u001b[0m\u001b[0mobj1\u001b[0m\u001b[0;34m.\u001b[0m\u001b[0mget_country\u001b[0m\u001b[0;34m(\u001b[0m\u001b[0;34m)\u001b[0m\u001b[0;34m)\u001b[0m\u001b[0;34m\u001b[0m\u001b[0;34m\u001b[0m\u001b[0m\n\u001b[1;32m      6\u001b[0m \u001b[0mprint\u001b[0m\u001b[0;34m(\u001b[0m\u001b[0mobj1\u001b[0m\u001b[0;34m.\u001b[0m\u001b[0mget_name\u001b[0m\u001b[0;34m(\u001b[0m\u001b[0;34m)\u001b[0m\u001b[0;34m)\u001b[0m\u001b[0;34m\u001b[0m\u001b[0;34m\u001b[0m\u001b[0m\n",
            "\u001b[0;31mAttributeError\u001b[0m: 'American' object has no attribute 'speaks'"
          ]
        }
      ]
    },
    {
      "cell_type": "code",
      "source": [
        "obj1:American = American(name=\"John\", age=25)\n",
        "print(obj1.age)\n",
        "print (obj1.name)\n",
        "print(obj1.speaks())\n",
        "print(American.get_country())\n",
        "print(American.get_name())\n"
      ],
      "metadata": {
        "colab": {
          "base_uri": "https://localhost:8080/",
          "height": 245
        },
        "id": "0C6IKpAuyf32",
        "outputId": "b471bf38-af21-4804-b80a-1b708781edbd"
      },
      "execution_count": 67,
      "outputs": [
        {
          "output_type": "stream",
          "name": "stdout",
          "text": [
            "25\n",
            "John\n"
          ]
        },
        {
          "output_type": "error",
          "ename": "AttributeError",
          "evalue": "'American' object has no attribute 'speaks'",
          "traceback": [
            "\u001b[0;31m---------------------------------------------------------------------------\u001b[0m",
            "\u001b[0;31mAttributeError\u001b[0m                            Traceback (most recent call last)",
            "\u001b[0;32m<ipython-input-67-310d27a06999>\u001b[0m in \u001b[0;36m<cell line: 0>\u001b[0;34m()\u001b[0m\n\u001b[1;32m      2\u001b[0m \u001b[0mprint\u001b[0m\u001b[0;34m(\u001b[0m\u001b[0mobj1\u001b[0m\u001b[0;34m.\u001b[0m\u001b[0mage\u001b[0m\u001b[0;34m)\u001b[0m\u001b[0;34m\u001b[0m\u001b[0;34m\u001b[0m\u001b[0m\n\u001b[1;32m      3\u001b[0m \u001b[0mprint\u001b[0m \u001b[0;34m(\u001b[0m\u001b[0mobj1\u001b[0m\u001b[0;34m.\u001b[0m\u001b[0mname\u001b[0m\u001b[0;34m)\u001b[0m\u001b[0;34m\u001b[0m\u001b[0;34m\u001b[0m\u001b[0m\n\u001b[0;32m----> 4\u001b[0;31m \u001b[0mprint\u001b[0m\u001b[0;34m(\u001b[0m\u001b[0mobj1\u001b[0m\u001b[0;34m.\u001b[0m\u001b[0mspeaks\u001b[0m\u001b[0;34m(\u001b[0m\u001b[0;34m)\u001b[0m\u001b[0;34m)\u001b[0m\u001b[0;34m\u001b[0m\u001b[0;34m\u001b[0m\u001b[0m\n\u001b[0m\u001b[1;32m      5\u001b[0m \u001b[0mprint\u001b[0m\u001b[0;34m(\u001b[0m\u001b[0mAmerican\u001b[0m\u001b[0;34m.\u001b[0m\u001b[0mget_country\u001b[0m\u001b[0;34m(\u001b[0m\u001b[0;34m)\u001b[0m\u001b[0;34m)\u001b[0m\u001b[0;34m\u001b[0m\u001b[0;34m\u001b[0m\u001b[0m\n\u001b[1;32m      6\u001b[0m \u001b[0mprint\u001b[0m\u001b[0;34m(\u001b[0m\u001b[0mAmerican\u001b[0m\u001b[0;34m.\u001b[0m\u001b[0mget_name\u001b[0m\u001b[0;34m(\u001b[0m\u001b[0;34m)\u001b[0m\u001b[0;34m)\u001b[0m\u001b[0;34m\u001b[0m\u001b[0;34m\u001b[0m\u001b[0m\n",
            "\u001b[0;31mAttributeError\u001b[0m: 'American' object has no attribute 'speaks'"
          ]
        }
      ]
    },
    {
      "cell_type": "code",
      "source": [
        "@dataclass\n",
        "class American:\n",
        "  name:str\n",
        "  age:int\n",
        "  country:ClassVar[str] = \"USA\"\n",
        "  national_language:ClassVar[str] = \"English\""
      ],
      "metadata": {
        "id": "cHHc2NJG15rO"
      },
      "execution_count": 68,
      "outputs": []
    },
    {
      "cell_type": "code",
      "source": [
        "obj1:American = American(name=\"John\", age=25)\n",
        "print(obj1.age)\n",
        "print (obj1.name)\n",
        "print(obj1())"
      ],
      "metadata": {
        "colab": {
          "base_uri": "https://localhost:8080/",
          "height": 211
        },
        "id": "k6RFzqfk17UY",
        "outputId": "d4fce26f-fd4a-4e65-9f7c-86df3832d1fc"
      },
      "execution_count": 69,
      "outputs": [
        {
          "output_type": "stream",
          "name": "stdout",
          "text": [
            "25\n",
            "John\n"
          ]
        },
        {
          "output_type": "error",
          "ename": "TypeError",
          "evalue": "'American' object is not callable",
          "traceback": [
            "\u001b[0;31m---------------------------------------------------------------------------\u001b[0m",
            "\u001b[0;31mTypeError\u001b[0m                                 Traceback (most recent call last)",
            "\u001b[0;32m<ipython-input-69-ebf73fed68a9>\u001b[0m in \u001b[0;36m<cell line: 0>\u001b[0;34m()\u001b[0m\n\u001b[1;32m      2\u001b[0m \u001b[0mprint\u001b[0m\u001b[0;34m(\u001b[0m\u001b[0mobj1\u001b[0m\u001b[0;34m.\u001b[0m\u001b[0mage\u001b[0m\u001b[0;34m)\u001b[0m\u001b[0;34m\u001b[0m\u001b[0;34m\u001b[0m\u001b[0m\n\u001b[1;32m      3\u001b[0m \u001b[0mprint\u001b[0m \u001b[0;34m(\u001b[0m\u001b[0mobj1\u001b[0m\u001b[0;34m.\u001b[0m\u001b[0mname\u001b[0m\u001b[0;34m)\u001b[0m\u001b[0;34m\u001b[0m\u001b[0;34m\u001b[0m\u001b[0m\n\u001b[0;32m----> 4\u001b[0;31m \u001b[0mprint\u001b[0m\u001b[0;34m(\u001b[0m\u001b[0mobj1\u001b[0m\u001b[0;34m(\u001b[0m\u001b[0;34m)\u001b[0m\u001b[0;34m)\u001b[0m\u001b[0;34m\u001b[0m\u001b[0;34m\u001b[0m\u001b[0m\n\u001b[0m",
            "\u001b[0;31mTypeError\u001b[0m: 'American' object is not callable"
          ]
        }
      ]
    },
    {
      "cell_type": "code",
      "source": [
        "#Callable\n",
        "\n",
        "@dataclass\n",
        "class American:\n",
        "  name:str\n",
        "  age:int\n",
        "  country:ClassVar[str] = \"USA\"\n",
        "  national_language:ClassVar[str] = \"English\"\n",
        "\n",
        "  def __call__(self):\n",
        "    return \"Hi!\""
      ],
      "metadata": {
        "id": "ntOSJ__y1AQN"
      },
      "execution_count": 70,
      "outputs": []
    },
    {
      "cell_type": "code",
      "source": [
        "obj1:American = American(name=\"John\", age=25)\n",
        "print(obj1.age)\n",
        "print (obj1.name)\n",
        "# This is only possible if the __call__ method is in the class\n",
        "print(obj1())\n",
        "print(obj1.__dict__)"
      ],
      "metadata": {
        "colab": {
          "base_uri": "https://localhost:8080/"
        },
        "id": "NkVgcyxP1RBi",
        "outputId": "51c7b9c9-448f-455c-81de-c619eed25503"
      },
      "execution_count": 71,
      "outputs": [
        {
          "output_type": "stream",
          "name": "stdout",
          "text": [
            "25\n",
            "John\n",
            "Hi!\n",
            "{'name': 'John', 'age': 25}\n"
          ]
        }
      ]
    }
  ]
}